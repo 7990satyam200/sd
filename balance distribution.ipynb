{
 "cells": [
  {
   "cell_type": "markdown",
   "id": "0ce9ef11",
   "metadata": {},
   "source": [
    "## Balancing imbalance data distribution"
   ]
  },
  {
   "cell_type": "code",
   "execution_count": 20,
   "id": "2880148d",
   "metadata": {},
   "outputs": [],
   "source": [
    "from sklearn.datasets import fetch_20newsgroups\n",
    "from sklearn.feature_extraction.text import TfidfVectorizer\n",
    "from sklearn.naive_bayes import MultinomialNB\n",
    "from sklearn.pipeline import make_pipeline\n",
    "from imblearn.under_sampling import RandomUnderSampler\n",
    "from imblearn.pipeline import make_pipeline as make_pipeline_imb\n",
    "from imblearn.over_sampling import RandomOverSampler\n",
    "from sklearn.metrics import accuracy_score\n",
    "from sklearn.svm import LinearSVC\n",
    "from imblearn.metrics import classification_report_imbalanced\n",
    "\n",
    "newsgroups_train = fetch_20newsgroups(subset=\"train\")\n",
    "newsgroups_test = fetch_20newsgroups(subset=\"test\")"
   ]
  },
  {
   "cell_type": "code",
   "execution_count": 5,
   "id": "dad7aefc",
   "metadata": {},
   "outputs": [],
   "source": [
    "X_train = newsgroups_train.data\n",
    "X_test = newsgroups_test.data\n",
    "\n",
    "y_train = newsgroups_train.target\n",
    "y_test = newsgroups_test.target"
   ]
  },
  {
   "cell_type": "code",
   "execution_count": 6,
   "id": "3b3a87e6",
   "metadata": {},
   "outputs": [
    {
     "name": "stdout",
     "output_type": "stream",
     "text": [
      "Training class distributions summary: Counter({10: 600, 15: 599, 8: 598, 9: 597, 11: 595, 7: 594, 13: 594, 14: 593, 5: 593, 2: 591, 12: 591, 3: 590, 6: 585, 1: 584, 4: 578, 17: 564, 16: 546, 0: 480, 18: 465, 19: 377})\n",
      "Test class distributions summary: Counter({10: 399, 15: 398, 8: 398, 9: 397, 7: 396, 13: 396, 11: 396, 5: 395, 2: 394, 14: 394, 12: 393, 3: 392, 6: 390, 1: 389, 4: 385, 17: 376, 16: 364, 0: 319, 18: 310, 19: 251})\n"
     ]
    }
   ],
   "source": [
    "from collections import Counter\n",
    "\n",
    "print(f\"Training class distributions summary: {Counter(y_train)}\")\n",
    "print(f\"Test class distributions summary: {Counter(y_test)}\")\n"
   ]
  },
  {
   "cell_type": "code",
   "execution_count": 17,
   "id": "7450d0f2",
   "metadata": {},
   "outputs": [],
   "source": [
    "model = make_pipeline(TfidfVectorizer(), MultinomialNB())\n",
    "model.fit(X_train, y_train)\n",
    "y_pred = model.predict(X_test)"
   ]
  },
  {
   "cell_type": "code",
   "execution_count": 18,
   "id": "b7639820",
   "metadata": {},
   "outputs": [
    {
     "data": {
      "text/plain": [
       "0.7738980350504514"
      ]
     },
     "execution_count": 18,
     "metadata": {},
     "output_type": "execute_result"
    }
   ],
   "source": [
    "accuracy_score(y_pred, y_test)"
   ]
  },
  {
   "cell_type": "code",
   "execution_count": 19,
   "id": "2ce0da41",
   "metadata": {},
   "outputs": [
    {
     "name": "stdout",
     "output_type": "stream",
     "text": [
      "                   pre       rec       spe        f1       geo       iba       sup\n",
      "\n",
      "          0       0.80      0.52      0.99      0.63      0.72      0.49       319\n",
      "          1       0.81      0.65      0.99      0.72      0.80      0.62       389\n",
      "          2       0.82      0.65      0.99      0.73      0.81      0.63       394\n",
      "          3       0.67      0.78      0.98      0.72      0.87      0.75       392\n",
      "          4       0.86      0.77      0.99      0.81      0.88      0.75       385\n",
      "          5       0.89      0.75      0.99      0.82      0.87      0.73       395\n",
      "          6       0.93      0.69      1.00      0.80      0.83      0.67       390\n",
      "          7       0.85      0.92      0.99      0.88      0.95      0.90       396\n",
      "          8       0.94      0.93      1.00      0.93      0.96      0.92       398\n",
      "          9       0.92      0.90      1.00      0.91      0.95      0.89       397\n",
      "         10       0.89      0.97      0.99      0.93      0.98      0.96       399\n",
      "         11       0.59      0.97      0.96      0.74      0.97      0.93       396\n",
      "         12       0.84      0.60      0.99      0.70      0.77      0.57       393\n",
      "         13       0.92      0.74      1.00      0.82      0.86      0.72       396\n",
      "         14       0.84      0.89      0.99      0.87      0.94      0.87       394\n",
      "         15       0.44      0.98      0.93      0.61      0.96      0.92       398\n",
      "         16       0.64      0.94      0.97      0.76      0.96      0.91       364\n",
      "         17       0.93      0.91      1.00      0.92      0.95      0.90       376\n",
      "         18       0.96      0.42      1.00      0.58      0.64      0.39       310\n",
      "         19       0.97      0.14      1.00      0.24      0.37      0.13       251\n",
      "\n",
      "avg / total       0.82      0.77      0.99      0.77      0.86      0.75      7532\n",
      "\n"
     ]
    }
   ],
   "source": [
    "print(classification_report_imbalanced(y_test, y_pred))"
   ]
  },
  {
   "cell_type": "code",
   "execution_count": 12,
   "id": "7d9a731f",
   "metadata": {},
   "outputs": [],
   "source": [
    "model = make_pipeline_imb(TfidfVectorizer(), RandomOverSampler(), MultinomialNB())\n",
    "\n",
    "model.fit(X_train, y_train)\n",
    "y_pred = model.predict(X_test)\n"
   ]
  },
  {
   "cell_type": "code",
   "execution_count": 13,
   "id": "28695639",
   "metadata": {},
   "outputs": [
    {
     "data": {
      "text/plain": [
       "0.7963356346255974"
      ]
     },
     "execution_count": 13,
     "metadata": {},
     "output_type": "execute_result"
    }
   ],
   "source": [
    "accuracy_score(y_pred, y_test)"
   ]
  },
  {
   "cell_type": "code",
   "execution_count": 16,
   "id": "4069c529",
   "metadata": {},
   "outputs": [
    {
     "name": "stdout",
     "output_type": "stream",
     "text": [
      "                   pre       rec       spe        f1       geo       iba       sup\n",
      "\n",
      "          0       0.68      0.76      0.98      0.72      0.86      0.73       319\n",
      "          1       0.78      0.67      0.99      0.72      0.82      0.65       389\n",
      "          2       0.82      0.65      0.99      0.73      0.80      0.63       394\n",
      "          3       0.69      0.76      0.98      0.72      0.87      0.73       392\n",
      "          4       0.85      0.80      0.99      0.83      0.89      0.78       385\n",
      "          5       0.90      0.75      1.00      0.82      0.86      0.73       395\n",
      "          6       0.92      0.70      1.00      0.80      0.84      0.68       390\n",
      "          7       0.89      0.90      0.99      0.89      0.94      0.88       396\n",
      "          8       0.95      0.92      1.00      0.94      0.96      0.92       398\n",
      "          9       0.94      0.89      1.00      0.91      0.94      0.87       397\n",
      "         10       0.91      0.96      0.99      0.94      0.98      0.96       399\n",
      "         11       0.67      0.96      0.97      0.79      0.97      0.93       396\n",
      "         12       0.86      0.58      0.99      0.69      0.76      0.55       393\n",
      "         13       0.94      0.70      1.00      0.80      0.84      0.68       396\n",
      "         14       0.88      0.87      0.99      0.87      0.93      0.85       394\n",
      "         15       0.64      0.95      0.97      0.77      0.96      0.92       398\n",
      "         16       0.61      0.94      0.97      0.74      0.95      0.91       364\n",
      "         17       0.94      0.89      1.00      0.92      0.94      0.88       376\n",
      "         18       0.61      0.61      0.98      0.61      0.77      0.58       310\n",
      "         19       0.69      0.51      0.99      0.59      0.71      0.48       251\n",
      "\n",
      "avg / total       0.82      0.80      0.99      0.80      0.88      0.77      7532\n",
      "\n"
     ]
    }
   ],
   "source": [
    "c"
   ]
  },
  {
   "cell_type": "code",
   "execution_count": 23,
   "id": "9d49f6d8",
   "metadata": {},
   "outputs": [],
   "source": [
    "model = make_pipeline_imb(TfidfVectorizer(), RandomUnderSampler(), LinearSVC())\n",
    "\n",
    "model.fit(X_train, y_train)\n",
    "y_pred = model.predict(X_test)\n",
    "\n"
   ]
  },
  {
   "cell_type": "code",
   "execution_count": 24,
   "id": "5fa72974",
   "metadata": {},
   "outputs": [
    {
     "data": {
      "text/plain": [
       "0.8397503983005842"
      ]
     },
     "execution_count": 24,
     "metadata": {},
     "output_type": "execute_result"
    }
   ],
   "source": [
    "accuracy_score(y_pred, y_test)"
   ]
  },
  {
   "cell_type": "code",
   "execution_count": null,
   "id": "39fe7548",
   "metadata": {},
   "outputs": [],
   "source": [
    "from imblearn.ensemble import RUSBoostClassifier\n",
    "rusboost = RUSBoostClassifier(n_estimators=200, algorithm='SAMME.R',\n",
    "                              random_state=0)\n",
    "model = make_pipeline(TfidfVectorizer(),  RUSBoostClassifier(n_estimators=200, algorithm='SAMME.R',\n",
    "                              random_state=0))\n",
    "\n",
    "\n",
    "rusboost.fit(training_features.toarray(), y_train)  \n",
    "\n",
    "y_pred = rusboost.predict(testing_features.toarray())\n",
    "balanced_accuracy_score(y_test, y_pred) "
   ]
  },
  {
   "cell_type": "code",
   "execution_count": 39,
   "id": "658c6400",
   "metadata": {},
   "outputs": [],
   "source": [
    "vectorizer = TfidfVectorizer()\n",
    "\n",
    "training_features=vectorizer.fit_transform(np.array(X_train))\n",
    "testing_features = vectorizer.transform(X_test)"
   ]
  },
  {
   "cell_type": "code",
   "execution_count": null,
   "id": "bc4ccb10",
   "metadata": {},
   "outputs": [],
   "source": []
  }
 ],
 "metadata": {
  "kernelspec": {
   "display_name": "Python 3",
   "language": "python",
   "name": "python3"
  },
  "language_info": {
   "codemirror_mode": {
    "name": "ipython",
    "version": 3
   },
   "file_extension": ".py",
   "mimetype": "text/x-python",
   "name": "python",
   "nbconvert_exporter": "python",
   "pygments_lexer": "ipython3",
   "version": "3.8.8"
  }
 },
 "nbformat": 4,
 "nbformat_minor": 5
}
